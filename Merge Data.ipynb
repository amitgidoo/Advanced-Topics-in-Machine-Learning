{
 "cells": [
  {
   "cell_type": "code",
   "execution_count": 2,
   "id": "8f804e9b-9970-4180-8825-cdf873944c16",
   "metadata": {},
   "outputs": [
    {
     "name": "stderr",
     "output_type": "stream",
     "text": [
      "C:\\Users\\dell\\anaconda3\\lib\\site-packages\\pandas\\util\\_decorators.py:211: FutureWarning: the 'encoding' keyword is deprecated and will be removed in a future version. Please take steps to stop the use of 'encoding'\n",
      "  return func(*args, **kwargs)\n",
      "<ipython-input-2-b9c08f037b86>:24: UserWarning: Pandas requires version '1.4.3' or newer of 'xlsxwriter' (version '1.3.8' currently installed).\n",
      "  merged_df.to_excel(output_file, index=False, encoding='utf-8-sig')\n"
     ]
    },
    {
     "name": "stdout",
     "output_type": "stream",
     "text": [
      "Merged DataFrame saved to merged_scraped_data.xlsx\n"
     ]
    }
   ],
   "source": [
    "import pandas as pd\n",
    "import os\n",
    "\n",
    "# Directory where the Excel files are located\n",
    "input_dir = \"real_estate_data\"\n",
    "\n",
    "# List to store DataFrames from each file\n",
    "dataframes = []\n",
    "\n",
    "# Loop through all files in the directory\n",
    "for filename in os.listdir(input_dir):\n",
    "    if filename.startswith(\"scraped_data_\") and filename.endswith(\".xlsx\"):\n",
    "        file_path = os.path.join(input_dir, filename)\n",
    "        df = pd.read_excel(file_path)\n",
    "        dataframes.append(df)\n",
    "\n",
    "# Concatenate all DataFrames\n",
    "merged_df = pd.concat(dataframes, ignore_index=True)\n",
    "\n",
    "# Output file path for the merged Excel file\n",
    "output_file = \"merged_scraped_data.xlsx\"\n",
    "\n",
    "# Save the merged DataFrame to an Excel file\n",
    "merged_df.to_excel(output_file, index=False, encoding='utf-8-sig')\n",
    "\n",
    "print(f\"Merged DataFrame saved to {output_file}\")\n"
   ]
  }
 ],
 "metadata": {
  "kernelspec": {
   "display_name": "Python 3",
   "language": "python",
   "name": "python3"
  },
  "language_info": {
   "codemirror_mode": {
    "name": "ipython",
    "version": 3
   },
   "file_extension": ".py",
   "mimetype": "text/x-python",
   "name": "python",
   "nbconvert_exporter": "python",
   "pygments_lexer": "ipython3",
   "version": "3.8.8"
  },
  "widgets": {
   "application/vnd.jupyter.widget-state+json": {
    "state": {},
    "version_major": 2,
    "version_minor": 0
   }
  }
 },
 "nbformat": 4,
 "nbformat_minor": 5
}
